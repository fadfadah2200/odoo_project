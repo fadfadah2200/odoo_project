{
 "cells": [
  {
   "cell_type": "code",
   "execution_count": null,
   "id": "c2b1317d-db03-4aa8-bf5a-bc054720b15f",
   "metadata": {},
   "outputs": [],
   "source": []
  }
 ],
 "metadata": {
  "kernelspec": {
   "display_name": "",
   "name": ""
  },
  "language_info": {
   "name": ""
  }
 },
 "nbformat": 4,
 "nbformat_minor": 5
}
